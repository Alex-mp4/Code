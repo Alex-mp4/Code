{
 "cells": [
  {
   "cell_type": "markdown",
   "metadata": {},
   "source": [
    "## 1. Review questions"
   ]
  },
  {
   "cell_type": "markdown",
   "metadata": {},
   "source": [
    "#### Write your aswer after the hashtaqs #, under each question"
   ]
  },
  {
   "cell_type": "markdown",
   "metadata": {},
   "source": [
    "### (a) Please, give two reasons why you should write functions, when possible in your code?"
   ]
  },
  {
   "cell_type": "code",
   "execution_count": 10,
   "metadata": {},
   "outputs": [],
   "source": [
    "# \n",
    "#\n",
    "#"
   ]
  },
  {
   "cell_type": "markdown",
   "metadata": {},
   "source": [
    "### (b). What is an argument and what is a parameter in a function?"
   ]
  },
  {
   "cell_type": "code",
   "execution_count": null,
   "metadata": {},
   "outputs": [],
   "source": [
    "#\n",
    "#\n",
    "#"
   ]
  },
  {
   "cell_type": "markdown",
   "metadata": {},
   "source": [
    "## 2. The following code does not work. What is the error message? Do you see why? Can you suggest a way to fix it?"
   ]
  },
  {
   "cell_type": "code",
   "execution_count": 5,
   "metadata": {},
   "outputs": [
    {
     "ename": "TypeError",
     "evalue": "'int' object is not callable",
     "output_type": "error",
     "traceback": [
      "\u001b[0;31m---------------------------------------------------------------------------\u001b[0m",
      "\u001b[0;31mTypeError\u001b[0m                                 Traceback (most recent call last)",
      "\u001b[0;32m<ipython-input-5-b40f76d74947>\u001b[0m in \u001b[0;36m<module>\u001b[0;34m\u001b[0m\n\u001b[1;32m      5\u001b[0m     \u001b[0;32mreturn\u001b[0m \u001b[0mlen\u001b[0m\u001b[0;34m\u001b[0m\u001b[0;34m\u001b[0m\u001b[0m\n\u001b[1;32m      6\u001b[0m \u001b[0;34m\u001b[0m\u001b[0m\n\u001b[0;32m----> 7\u001b[0;31m \u001b[0mprint\u001b[0m \u001b[0;34m(\u001b[0m\u001b[0mlength\u001b[0m\u001b[0;34m(\u001b[0m\u001b[0;34m[\u001b[0m\u001b[0;36m1\u001b[0m\u001b[0;34m,\u001b[0m\u001b[0;36m2\u001b[0m\u001b[0;34m,\u001b[0m\u001b[0;36m3\u001b[0m\u001b[0;34m]\u001b[0m\u001b[0;34m)\u001b[0m\u001b[0;34m)\u001b[0m\u001b[0;34m\u001b[0m\u001b[0;34m\u001b[0m\u001b[0m\n\u001b[0m",
      "\u001b[0;32m<ipython-input-5-b40f76d74947>\u001b[0m in \u001b[0;36mlength\u001b[0;34m(L)\u001b[0m\n\u001b[1;32m      1\u001b[0m \u001b[0;32mdef\u001b[0m \u001b[0mlength\u001b[0m\u001b[0;34m(\u001b[0m\u001b[0mL\u001b[0m\u001b[0;34m)\u001b[0m\u001b[0;34m:\u001b[0m\u001b[0;34m\u001b[0m\u001b[0;34m\u001b[0m\u001b[0m\n\u001b[1;32m      2\u001b[0m     \u001b[0mlen\u001b[0m \u001b[0;34m=\u001b[0m \u001b[0;36m1\u001b[0m\u001b[0;34m\u001b[0m\u001b[0;34m\u001b[0m\u001b[0m\n\u001b[0;32m----> 3\u001b[0;31m     \u001b[0;32mfor\u001b[0m \u001b[0mi\u001b[0m \u001b[0;32min\u001b[0m \u001b[0mrange\u001b[0m\u001b[0;34m(\u001b[0m\u001b[0mlen\u001b[0m\u001b[0;34m(\u001b[0m\u001b[0mL\u001b[0m\u001b[0;34m)\u001b[0m\u001b[0;34m)\u001b[0m\u001b[0;34m:\u001b[0m\u001b[0;34m\u001b[0m\u001b[0;34m\u001b[0m\u001b[0m\n\u001b[0m\u001b[1;32m      4\u001b[0m         \u001b[0mlen\u001b[0m \u001b[0;34m=\u001b[0m \u001b[0mlen\u001b[0m \u001b[0;34m+\u001b[0m \u001b[0;36m1\u001b[0m\u001b[0;34m\u001b[0m\u001b[0;34m\u001b[0m\u001b[0m\n\u001b[1;32m      5\u001b[0m     \u001b[0;32mreturn\u001b[0m \u001b[0mlen\u001b[0m\u001b[0;34m\u001b[0m\u001b[0;34m\u001b[0m\u001b[0m\n",
      "\u001b[0;31mTypeError\u001b[0m: 'int' object is not callable"
     ]
    }
   ],
   "source": [
    "def length(L):\n",
    "    len = 1\n",
    "    for i in range(len(L)):\n",
    "        len = len + 1\n",
    "    return len\n",
    "\n",
    "print (length([1,2,3]))"
   ]
  },
  {
   "cell_type": "markdown",
   "metadata": {},
   "source": [
    "#### Answer"
   ]
  },
  {
   "cell_type": "code",
   "execution_count": 8,
   "metadata": {},
   "outputs": [
    {
     "name": "stdout",
     "output_type": "stream",
     "text": [
      "3\n"
     ]
    }
   ],
   "source": [
    "def length(L):\n",
    "    lent = 0   # we avoid names of variables, which are build-in Python functions \n",
    "    for i in range(len(L)):\n",
    "        lent = lent + 1\n",
    "    return lent\n",
    "\n",
    "print(length([1,2,3]))"
   ]
  },
  {
   "cell_type": "markdown",
   "metadata": {},
   "source": [
    "## 3. Write a function called evenlyDivisibleElements that given an integer, x, and a list of integers, returns the list of integers from the given list that evenly divide x."
   ]
  },
  {
   "cell_type": "markdown",
   "metadata": {},
   "source": [
    "#### Answer"
   ]
  },
  {
   "cell_type": "code",
   "execution_count": 9,
   "metadata": {},
   "outputs": [
    {
     "data": {
      "text/plain": [
       "[4, 6, 8, 10]"
      ]
     },
     "execution_count": 9,
     "metadata": {},
     "output_type": "execute_result"
    }
   ],
   "source": [
    "def evenlyDivisibleElements(x, lis):\n",
    "    even_list = []\n",
    "    for item in lis:\n",
    "        if item%x==0:\n",
    "            even_list.append(item)\n",
    "    return even_list\n",
    "\n",
    "\n",
    "evenlyDivisibleElements(2, [4,5,6,7,8,9,10])"
   ]
  },
  {
   "cell_type": "markdown",
   "metadata": {},
   "source": [
    "Concatenating DNA fragments is a common task in the lab, for example if a clone is inserted in a vector\n",
    "or when splicing together exons during expression of a gene. Remember, that a codon on the DNA\n",
    "comprises 3 out of the four nucleotides (A, T, G, and C) and that it will be translated into the\n",
    "corresponding amino acid if it is part of an open reading frame, ORF.\n",
    "\n",
    "Your Task 1:\n",
    "Write a Python program (module) that:\n",
    "\n",
    "1. Attaches the second DNA string to the end of the first DNA string.\n",
    "2. Checks if the combined DNA string contains illegal, non‐DNA characters and removes those characters from the sequence string, in order to make it suitable for later applications.\n",
    "\n",
    "DNA sequence 1: 'ATACCGGCCTATAACXCGGAA'\n",
    "DNA sequence 2: 'ATGATATGGAGGAGGTAGCCGCG.CGCCATGCGCGCTXATATTTTGGTAT'"
   ]
  },
  {
   "cell_type": "code",
   "execution_count": 12,
   "metadata": {},
   "outputs": [],
   "source": [
    "def find_mistakes(seq,RNAflag = False):\n",
    "    dna=['A','C','G','T'] \n",
    "    rna=['A','C','G','U']\n",
    "    \"\"\"Removes characters that are not in 'dna' or 'rna'. Return the cleared sequence \"\"\"\n",
    "    if RNAflag:\n",
    "        return ''.join(['' if x not in rna else x for x in seq])\n",
    "    else:\n",
    "        return ''.join(['' if x not in dna else x for x in seq])\n",
    "        \n",
    "        \n",
    "def validate_base_sequence(base_sequence, RNAflag = False):\n",
    "    DNAbases = set('TCAGtcag')\n",
    "    RNAbases = set('UCAGucag')\n",
    "    \"\"\"Return True if the string base_sequence contains only upper-\n",
    "    or lowercase T (or U, if RNAflag), C, A, and G characters,\n",
    "    otherwise False\"\"\"\n",
    "    return set(base_sequence) <= (RNAbases if RNAflag else DNAbases)"
   ]
  },
  {
   "cell_type": "code",
   "execution_count": 14,
   "metadata": {},
   "outputs": [
    {
     "name": "stdout",
     "output_type": "stream",
     "text": [
      "sequnce=DNA1+DNA2: True \n",
      "\n",
      "the concatenated raw DNA is: ATACCGGCCTATAACXCGAAATGATATGGAGGAGGTAGCCGCG.CGCCATGCGCGCGCTXATATTTTGGTATe\n",
      "\n",
      "the corrected DNA string is: ATACCGGCCTATAACCGAAATGATATGGAGGAGGTAGCCGCGCGCCATGCGCGCGCTATATTTTGGTAT\n",
      "Your sequence is OK !\n"
     ]
    }
   ],
   "source": [
    "DNA1='ATACCGGCCTATAACXCGAA'\n",
    "DNA2='ATGATATGGAGGAGGTAGCCGCG.CGCCATGCGCGCGCTXATATTTTGGTATe'\n",
    "seq=''.join([DNA1,DNA2])\n",
    "#We check if seq=DNA1+DNA2\n",
    "print('sequnce=DNA1+DNA2: %s ' %(seq==DNA1+DNA2))\n",
    "print('\\nthe concatenated raw DNA is:',seq)\n",
    "\n",
    "\n",
    "#validate_base_sequence(seq)==False:\n",
    "seq1=find_mistakes(seq)\n",
    "if validate_base_sequence(seq1)==True:\n",
    "    \n",
    "    print('\\nthe corrected DNA string is:',seq1)\n",
    "    print('Your sequence is OK !')\n",
    "else:\n",
    "    print('There is a problem')"
   ]
  },
  {
   "cell_type": "code",
   "execution_count": null,
   "metadata": {},
   "outputs": [],
   "source": []
  }
 ],
 "metadata": {
  "kernelspec": {
   "display_name": "Python 3",
   "language": "python",
   "name": "python3"
  },
  "language_info": {
   "codemirror_mode": {
    "name": "ipython",
    "version": 3
   },
   "file_extension": ".py",
   "mimetype": "text/x-python",
   "name": "python",
   "nbconvert_exporter": "python",
   "pygments_lexer": "ipython3",
   "version": "3.8.5"
  }
 },
 "nbformat": 4,
 "nbformat_minor": 4
}
