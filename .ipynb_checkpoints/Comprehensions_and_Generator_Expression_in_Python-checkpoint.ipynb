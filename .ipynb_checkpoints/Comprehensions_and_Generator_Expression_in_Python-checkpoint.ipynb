{
 "cells": [
  {
   "cell_type": "markdown",
   "metadata": {},
   "source": [
    "# Different ways to define a List in Python"
   ]
  },
  {
   "cell_type": "markdown",
   "metadata": {},
   "source": [
    "###### Source: https://towardsdatascience.com/comprehensions-and-generator-expression-in-python-2ae01c48fc50"
   ]
  },
  {
   "cell_type": "markdown",
   "metadata": {},
   "source": [
    "## 1.Directly listing out elements,\n",
    "##### A list can be defined directly by enumerating/listing out all of its elements between square brackets, [ and ] separated by a comma."
   ]
  },
  {
   "cell_type": "code",
   "execution_count": 2,
   "metadata": {},
   "outputs": [
    {
     "name": "stdout",
     "output_type": "stream",
     "text": [
      "num_cube[:] = [8, 64, 216, 512, 1000]\n"
     ]
    }
   ],
   "source": [
    "num_cube=[8,64,216,512,1000]               \n",
    "print(f\"num_cube[:] = {num_cube}\")"
   ]
  },
  {
   "cell_type": "markdown",
   "metadata": {},
   "source": [
    "#####  f”num_cube[:] = {num_cube}” used in print( ) is f-string formatting styles of string interpolation introduced in Python 3.6."
   ]
  },
  {
   "cell_type": "markdown",
   "metadata": {},
   "source": [
    "## 2. Using for loop,\n",
    "#### Define an empty list and add elements using built-in method append() in a for loop. \n",
    "#### Here we are creating a List of cubes of even numbers ranging between 1 to 10. \n",
    "#### We have defined an empty List num_cube_floop and a for loop iterating over range(1,11). \n",
    "#### Condition n%2==0 will makes sure only even numbers are evaluated for the output expression n**3."
   ]
  },
  {
   "cell_type": "code",
   "execution_count": 6,
   "metadata": {},
   "outputs": [
    {
     "name": "stdout",
     "output_type": "stream",
     "text": [
      "num_cube_floop[:] = [8, 64, 216, 512, 1000]\n"
     ]
    }
   ],
   "source": [
    "#2.Using for loop.\n",
    "\n",
    "num_cube_floop=[]\n",
    "for n in range(1,11):\n",
    "    if n%2 == 0:               \n",
    "        num_cube_floop.append(n**3)\n",
    "        \n",
    "print(f\"num_cube_floop[:] = {num_cube_floop}\")"
   ]
  },
  {
   "cell_type": "code",
   "execution_count": null,
   "metadata": {},
   "outputs": [],
   "source": []
  }
 ],
 "metadata": {
  "kernelspec": {
   "display_name": "Python 3",
   "language": "python",
   "name": "python3"
  },
  "language_info": {
   "codemirror_mode": {
    "name": "ipython",
    "version": 3
   },
   "file_extension": ".py",
   "mimetype": "text/x-python",
   "name": "python",
   "nbconvert_exporter": "python",
   "pygments_lexer": "ipython3",
   "version": "3.7.4"
  }
 },
 "nbformat": 4,
 "nbformat_minor": 2
}
