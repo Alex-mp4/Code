{
 "cells": [
  {
   "cell_type": "markdown",
   "metadata": {},
   "source": [
    "# (i) Different ways to define a List in Python"
   ]
  },
  {
   "cell_type": "markdown",
   "metadata": {},
   "source": [
    "###### Source: https://towardsdatascience.com/comprehensions-and-generator-expression-in-python-2ae01c48fc50"
   ]
  },
  {
   "cell_type": "markdown",
   "metadata": {},
   "source": [
    "## 1.Directly listing out elements,\n",
    "##### A list can be defined directly by enumerating/listing out all of its elements between square brackets, [ and ] separated by a comma."
   ]
  },
  {
   "cell_type": "code",
   "execution_count": 2,
   "metadata": {},
   "outputs": [
    {
     "name": "stdout",
     "output_type": "stream",
     "text": [
      "num_cube[:] = [8, 64, 216, 512, 1000]\n"
     ]
    }
   ],
   "source": [
    "num_cube=[8,64,216,512,1000]               \n",
    "print(f\"num_cube[:] = {num_cube}\")"
   ]
  },
  {
   "cell_type": "markdown",
   "metadata": {},
   "source": [
    "#####  f”num_cube[:] = {num_cube}” used in print( ) is f-string formatting styles of string interpolation introduced in Python 3.6."
   ]
  },
  {
   "cell_type": "markdown",
   "metadata": {},
   "source": [
    "## 2. Using for loop,\n",
    "#### Define an empty list and add elements using built-in method append() in a for loop. \n",
    "#### Here we are creating a List of cubes of even numbers ranging between 1 to 10. \n",
    "#### We have defined an empty List num_cube_floop and a for loop iterating over range(1,11). \n",
    "#### Condition n%2==0 will makes sure only even numbers are evaluated for the output expression n**3."
   ]
  },
  {
   "cell_type": "code",
   "execution_count": 6,
   "metadata": {},
   "outputs": [
    {
     "name": "stdout",
     "output_type": "stream",
     "text": [
      "num_cube_floop[:] = [8, 64, 216, 512, 1000]\n"
     ]
    }
   ],
   "source": [
    "#2.Using for loop.\n",
    "\n",
    "num_cube_floop=[]\n",
    "for n in range(1,11):\n",
    "    if n%2 == 0:               \n",
    "        num_cube_floop.append(n**3)\n",
    "        \n",
    "print(f\"num_cube_floop[:] = {num_cube_floop}\")"
   ]
  },
  {
   "cell_type": "markdown",
   "metadata": {},
   "source": [
    "## 3. Using ‘+=’ operator,\n",
    "#### Similar to the above example we have defined an empty List num_cube_op and for loop is iterating over the input file list_input.txt. \n",
    "#### We are separating the input data using split( ) before adding it to the List using the operator ‘+=’."
   ]
  },
  {
   "cell_type": "code",
   "execution_count": 10,
   "metadata": {},
   "outputs": [
    {
     "name": "stdout",
     "output_type": "stream",
     "text": [
      "num_cube_op[] = [2, 4, 6, 8, 10]\n"
     ]
    }
   ],
   "source": [
    "num_cube_op=[]\n",
    "\n",
    "for n in range(1,11):\n",
    "    if n%2 == 0:               \n",
    "        num_cube_op += [n]\n",
    "        \n",
    "print(f\"num_cube_op[:] = {num_cube_op}\")"
   ]
  },
  {
   "cell_type": "markdown",
   "metadata": {},
   "source": [
    "## 4. Using map(),\n",
    "#### Here, we are using map() to create a List from the existing List. \n",
    "#### For anyone new to map() and lambda expression,\n",
    "\n",
    "#### map(function_to_apply, iterable) — it applies ‘function’ to all the elements of an ‘iterable’.\n",
    "\n",
    "#### lambda parameters:output expression — anonymous function, it is defined without a name and does not follow normal python function conventions.\n",
    "\n",
    "#### In the below code, map( ) applies lambda expression(calculates a cube of the number) to existing List numbers and cast the output using list( ) before the result is assigned to new List num_cube_maps."
   ]
  },
  {
   "cell_type": "code",
   "execution_count": 12,
   "metadata": {},
   "outputs": [
    {
     "name": "stdout",
     "output_type": "stream",
     "text": [
      "num_cube_map[:] = [8, 64, 216, 512, 1000]\n"
     ]
    }
   ],
   "source": [
    "#4.Using map().\n",
    "\n",
    "numbers=[2,4,6,8,10]\n",
    "num_cube_map=list(map(lambda n:n**3,numbers))\n",
    "\n",
    "print(f\"num_cube_map[:] = {num_cube_map}\") "
   ]
  },
  {
   "cell_type": "markdown",
   "metadata": {},
   "source": [
    "# (iI) List Comprehension"
   ]
  },
  {
   "cell_type": "markdown",
   "metadata": {},
   "source": [
    "### Let’s dive straight into the examples,"
   ]
  },
  {
   "cell_type": "markdown",
   "metadata": {},
   "source": [
    "### 1.List Comprehension with for loop"
   ]
  },
  {
   "cell_type": "code",
   "execution_count": 16,
   "metadata": {},
   "outputs": [
    {
     "name": "stdout",
     "output_type": "stream",
     "text": [
      "name_ltr[] = ['P', 'y', 't', 'h', 'o', 'n', ' ', 'P', 'r', 'o', 'g', 'r', 'a', 'm', 'm', 'i', 'n', 'g']\n"
     ]
    }
   ],
   "source": [
    "#print the characters of a string as List\n",
    "name=\"Python Programming\"\n",
    "name_ltr=[]\n",
    "\n",
    "for letter in name:\n",
    "    name_ltr.append(letter)\n",
    "    \n",
    "print(f\"name_ltr[] = {name_ltr}\")    \n"
   ]
  },
  {
   "cell_type": "code",
   "execution_count": 17,
   "metadata": {},
   "outputs": [
    {
     "name": "stdout",
     "output_type": "stream",
     "text": [
      "With List-Comprehension = ['P', 'y', 't', 'h', 'o', 'n', ' ', 'P', 'r', 'o', 'g', 'r', 'a', 'm', 'm', 'i', 'n', 'g']\n"
     ]
    }
   ],
   "source": [
    "# with List Comprehension\n",
    "name_ltr_lc=[letter for letter in name]\n",
    "print(f\"With List-Comprehension = {name_ltr_lc}\")"
   ]
  },
  {
   "cell_type": "markdown",
   "metadata": {},
   "source": [
    "### 2.With if statement"
   ]
  },
  {
   "cell_type": "markdown",
   "metadata": {},
   "source": [
    "#### Let’s take this a little further by adding a conditional statement to it. \n",
    "#### At the beginning of the article, we saw four different ways of creating a List of the cube of even numbers, one was using for loop."
   ]
  },
  {
   "cell_type": "code",
   "execution_count": 3,
   "metadata": {},
   "outputs": [
    {
     "name": "stdout",
     "output_type": "stream",
     "text": [
      "num_cube_floop[] = [8, 64, 216, 512, 1000]\n"
     ]
    }
   ],
   "source": [
    "#Part-1\n",
    "\n",
    "#creating a List of even numbers' cube\n",
    "num_cube_floop=[]\n",
    "\n",
    "for n in range(1,11):\n",
    "    if n%2 == 0:                               \n",
    "        num_cube_floop.append(n**3)\n",
    "        \n",
    "print(f\"num_cube_floop[] = {num_cube_floop}\")"
   ]
  },
  {
   "cell_type": "code",
   "execution_count": 2,
   "metadata": {},
   "outputs": [
    {
     "name": "stdout",
     "output_type": "stream",
     "text": [
      "With List-Comprehension = [8, 64, 216, 512, 1000]\n"
     ]
    }
   ],
   "source": [
    "#with List Comprehension\n",
    "num_cube_lc=[n**3 for n in range(1,11) if n%2==0]\n",
    "print(f\"With List-Comprehension = {num_cube_lc}\")"
   ]
  },
  {
   "cell_type": "markdown",
   "metadata": {},
   "source": [
    "#### As we can see in the code block, four lines of code are reduced to a single line when using List Comprehension."
   ]
  },
  {
   "cell_type": "code",
   "execution_count": 4,
   "metadata": {},
   "outputs": [
    {
     "data": {
      "image/png": "[encoded data removed]",
      "text/plain": [
       "<IPython.core.display.Image object>"
      ]
     },
     "execution_count": 4,
     "metadata": {},
     "output_type": "execute_result"
    }
   ],
   "source": [
    "from IPython.display import Image\n",
    "Image(filename='Images/List_IF.png') "
   ]
  },
  {
   "cell_type": "markdown",
   "metadata": {},
   "source": [
    "#### The syntax is similar to the basic format we discussed in the previous section, conditional if-statement is added towards the end as shown in the below image."
   ]
  },
  {
   "cell_type": "code",
   "execution_count": 8,
   "metadata": {},
   "outputs": [
    {
     "data": {
      "image/png": "[encoded data removed]",
      "text/plain": [
       "<IPython.core.display.Image object>"
      ]
     },
     "execution_count": 8,
     "metadata": {},
     "output_type": "execute_result"
    }
   ],
   "source": [
    "Image(filename='Images/List_IF_2.png') "
   ]
  },
  {
   "cell_type": "markdown",
   "metadata": {},
   "source": [
    "#### Let’s take another example, create a List of words starting from a specific letter of a given string literal."
   ]
  },
  {
   "cell_type": "code",
   "execution_count": 6,
   "metadata": {},
   "outputs": [
    {
     "name": "stdout",
     "output_type": "stream",
     "text": [
      "words[] = ['Python', 'Programming']\n"
     ]
    }
   ],
   "source": [
    "#2.List Comprehension with if.\n",
    "#Part-2\n",
    "\n",
    "#list out words starting from letter 'P'\n",
    "statement=\"List Comprehension is one of the famous features of Python Programming\"\n",
    "words=[]\n",
    "\n",
    "for w in statement.split():\n",
    "    if w.startswith('P'):\n",
    "        words.append(w)\n",
    "\n",
    "print(f\"words[] = {words}\")"
   ]
  },
  {
   "cell_type": "markdown",
   "metadata": {},
   "source": [
    "#### Here, statement.split( ) separates(default separator is white space) all the words within the string literal \n",
    "#### For loop will be iterated through it to filter all the words starting from letter ‘P’ \n",
    "#### The result will be added to the List using words.append(w)."
   ]
  },
  {
   "cell_type": "code",
   "execution_count": 7,
   "metadata": {},
   "outputs": [
    {
     "name": "stdout",
     "output_type": "stream",
     "text": [
      "With List-Comprehension = ['Python', 'Programming']\n"
     ]
    }
   ],
   "source": [
    "#with List COmprehension\n",
    "words_lc=[w for w in statement.split() if w.startswith('P')]\n",
    "print(f\"With List-Comprehension = {words_lc}\")"
   ]
  },
  {
   "cell_type": "markdown",
   "metadata": {},
   "source": [
    "#### While using List Comprehension, output expression(which is always placed at the beginning) w is placed first, for loop is iterating over the string literal followed by if-condition."
   ]
  },
  {
   "cell_type": "code",
   "execution_count": 12,
   "metadata": {},
   "outputs": [
    {
     "data": {
      "image/png": "[encoded data removed]",
      "text/plain": [
       "<IPython.core.display.Image object>"
      ]
     },
     "execution_count": 12,
     "metadata": {},
     "output_type": "execute_result"
    }
   ],
   "source": [
    "Image(filename='Images/List_IF_3.png') "
   ]
  },
  {
   "cell_type": "markdown",
   "metadata": {},
   "source": [
    "## 3.With if-else statement"
   ]
  },
  {
   "cell_type": "code",
   "execution_count": 10,
   "metadata": {},
   "outputs": [
    {
     "name": "stdout",
     "output_type": "stream",
     "text": [
      "square_cube[] = [0, 1, 4, 27, 16, 125, 36, 343, 64, 729]\n"
     ]
    }
   ],
   "source": [
    "#3.List Comprehension with if-else\n",
    "#Part-1\n",
    "\n",
    "square_cube=[]  #creating a List of numbers - even number->square and odd number->cube\n",
    "\n",
    "for num in range(10):\n",
    "    if num%2==0:\n",
    "        square_cube.append(num**2)\n",
    "    else:\n",
    "        square_cube.append(num**3)\n",
    " \n",
    "print(f\"square_cube[] = {square_cube}\")"
   ]
  },
  {
   "cell_type": "markdown",
   "metadata": {},
   "source": [
    "### The above code block filters the numbers based on condition num%2==0 and accordingly execute either square_cube.append(num**2) or square_cube.append(num**3). "
   ]
  },
  {
   "cell_type": "markdown",
   "metadata": {},
   "source": [
    "### The placement of if-else statement is different than the previously discussed scenarios in List Comprehension. "
   ]
  },
  {
   "cell_type": "code",
   "execution_count": 11,
   "metadata": {},
   "outputs": [
    {
     "name": "stdout",
     "output_type": "stream",
     "text": [
      "With List-Conprehension = [0, 1, 4, 27, 16, 125, 36, 343, 64, 729]\n"
     ]
    }
   ],
   "source": [
    "#with List Comprehension\n",
    "square_cube_lc=[n**2 if n%2==0 else n**3 for n in range(10)]\n",
    "print(f\"With List-Conprehension = {square_cube_lc}\")"
   ]
  },
  {
   "cell_type": "markdown",
   "metadata": {},
   "source": [
    "### When if-else conditional block is used, it is placed right after the output expression as shown in the below image."
   ]
  },
  {
   "cell_type": "code",
   "execution_count": 13,
   "metadata": {},
   "outputs": [
    {
     "data": {
      "image/png": "[encoded data removed]",
      "text/plain": [
       "<IPython.core.display.Image object>"
      ]
     },
     "execution_count": 13,
     "metadata": {},
     "output_type": "execute_result"
    }
   ],
   "source": [
    "Image(filename='Images/List_IF_4.png') "
   ]
  },
  {
   "cell_type": "markdown",
   "metadata": {},
   "source": [
    "### While using List Comprehension output expression associated with if-statement is placed first and the other condition is followed by the else keyword."
   ]
  },
  {
   "cell_type": "code",
   "execution_count": null,
   "metadata": {},
   "outputs": [],
   "source": []
  }
 ],
 "metadata": {
  "kernelspec": {
   "display_name": "Python 3",
   "language": "python",
   "name": "python3"
  },
  "language_info": {
   "codemirror_mode": {
    "name": "ipython",
    "version": 3
   },
   "file_extension": ".py",
   "mimetype": "text/x-python",
   "name": "python",
   "nbconvert_exporter": "python",
   "pygments_lexer": "ipython3",
   "version": "3.8.5"
  }
 },
 "nbformat": 4,
 "nbformat_minor": 2
}
